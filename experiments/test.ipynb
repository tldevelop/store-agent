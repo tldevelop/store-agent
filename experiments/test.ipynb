{
 "cells": [
  {
   "cell_type": "code",
   "execution_count": 1,
   "metadata": {},
   "outputs": [],
   "source": [
    "#imports\n",
    "import os\n",
    "import requests\n",
    "import operator\n",
    "from dotenv import find_dotenv, load_dotenv\n",
    "from langchain.output_parsers import ResponseSchema, StructuredOutputParser\n",
    "from pydantic import BaseModel, Field\n",
    "from langchain.tools import StructuredTool\n",
    "from langchain_core.messages import AnyMessage, SystemMessage, HumanMessage, ToolMessage\n",
    "from langchain_huggingface import ChatHuggingFace\n",
    "from langchain_huggingface import HuggingFaceEndpoint\n",
    "from langgraph.graph import START, StateGraph, END\n",
    "from langgraph.checkpoint.sqlite import SqliteSaver\n",
    "from typing import TypedDict, Annotated"
   ]
  },
  {
   "cell_type": "code",
   "execution_count": 2,
   "metadata": {},
   "outputs": [],
   "source": [
    "#load env variables\n",
    "_ = load_dotenv(find_dotenv())"
   ]
  },
  {
   "cell_type": "code",
   "execution_count": 3,
   "metadata": {},
   "outputs": [],
   "source": [
    "#initialize agent state\n",
    "class AgentState(TypedDict):\n",
    "    messages: Annotated[list[AnyMessage], operator.add]"
   ]
  },
  {
   "cell_type": "code",
   "execution_count": 4,
   "metadata": {},
   "outputs": [
    {
     "name": "stderr",
     "output_type": "stream",
     "text": [
      "/home/pingu/StoreAgent/lib/python3.11/site-packages/tqdm/auto.py:21: TqdmWarning: IProgress not found. Please update jupyter and ipywidgets. See https://ipywidgets.readthedocs.io/en/stable/user_install.html\n",
      "  from .autonotebook import tqdm as notebook_tqdm\n"
     ]
    }
   ],
   "source": [
    "#Generate chat model from HuggingFace Meta Llama 3.3 70B\n",
    "\n",
    "model_id = \"meta-llama/Llama-3.3-70B-Instruct\"\n",
    "\n",
    "llm = HuggingFaceEndpoint(\n",
    "    repo_id=model_id,\n",
    "    task=\"text-generation\",\n",
    "    temperature=0.5,\n",
    "    max_new_tokens=520,\n",
    "    do_sample=False,\n",
    ")\n",
    "\n",
    "chat_model = ChatHuggingFace(llm=llm)"
   ]
  },
  {
   "cell_type": "code",
   "execution_count": 5,
   "metadata": {},
   "outputs": [],
   "source": [
    "#define schemas\n",
    "task_schema = ResponseSchema(name=\"task\",\n",
    "                             description=\"The task you are asked to do it could be create, update or delete\\\n",
    "                                answser create, update or delete\")\n",
    "product_name_schema = ResponseSchema(name=\"product_name\",\n",
    "                                      description=\"the name of the product to create, update or delete\")\n",
    "price_schema = ResponseSchema(name=\"price\",\n",
    "                                    description=\"extract any value related to the product price only if the task is create or update\")\n",
    "description_schema = ResponseSchema(name=\"description\",\n",
    "                                    description=\"Extract any information related to the product description only if the task is create or update\")\n",
    "stock_schema = ResponseSchema(name=\"stock\",\n",
    "                              description=\"Extract any value related to the stock amount only if the task is create or update\")\n",
    "\n",
    "response_schemas = [\n",
    "    task_schema,\n",
    "    product_name_schema,\n",
    "    price_schema,\n",
    "    description_schema,\n",
    "    stock_schema\n",
    "]"
   ]
  },
  {
   "cell_type": "code",
   "execution_count": 6,
   "metadata": {},
   "outputs": [],
   "source": [
    "#set output parser\n",
    "output_parser = StructuredOutputParser.from_response_schemas(response_schemas)"
   ]
  },
  {
   "cell_type": "code",
   "execution_count": 7,
   "metadata": {},
   "outputs": [],
   "source": [
    "#get format instructions\n",
    "format_instructions = output_parser.get_format_instructions()"
   ]
  },
  {
   "cell_type": "code",
   "execution_count": 8,
   "metadata": {},
   "outputs": [],
   "source": [
    "system_message = '''\n",
    "For the following message extract the following information:\n",
    "\n",
    "task: The task you are asked to do it could be create, update or delete\n",
    "answser create, update or delete\n",
    "\n",
    "product_name: the name of the product to create, update or delete\n",
    "\n",
    "price: extract any value related to the product price only if the task is create or update\n",
    "\n",
    "description: Extract any information related to the product description only if the task is create or update\n",
    "\n",
    "stock: Extract any value related to the stock amount only if the task is create or update\n",
    "\n",
    "The output should be a markdown code snippet formatted in the following schema, including the leading and trailing \"```json\" and \"```\":\n",
    "```json\n",
    "{\n",
    "    \"task\": string  // The task you are asked to do it could be create, update or delete answser create, update or delete\n",
    "    \"product_name\": string  // the name of the product to create, update or delete\n",
    "    \"price\": string  // extract any value related to the product price only if the task is create or update\n",
    "    \"description\": string  // Extract any information related to the product description only if the task is create or update\n",
    "    \"stock\": string  // Extract any value related to the stock amount only if the task is create or update\n",
    "}\n",
    "```\n",
    "\n",
    "You have access to the following tools:\n",
    "API_task\n",
    "\n",
    "After extracting the JSON use the tool called API_task to create, update or delete the product and answer the user if the product was created, updated or deleted successfully\n",
    "'''"
   ]
  },
  {
   "cell_type": "code",
   "execution_count": 9,
   "metadata": {},
   "outputs": [],
   "source": [
    "#Define Agent Class\n",
    "class Agent:\n",
    "    def __init__(self, model, tools, checkpointer, system=\"\"):\n",
    "        self.system = system\n",
    "        graph = StateGraph(AgentState)\n",
    "        graph.add_node(\"llm\", self.call_openai)\n",
    "        graph.add_node(\"action\", self.take_action)\n",
    "        graph.add_conditional_edges(\"llm\", self.exists_action, {True: \"action\", False: END})\n",
    "        graph.add_edge(\"action\", \"llm\")\n",
    "        graph.set_entry_point(\"llm\")\n",
    "        self.graph = graph.compile(checkpointer=checkpointer)\n",
    "        self.tools = {t.name: t for t in tools}\n",
    "        self.model = model.bind_tools(tools)\n",
    "\n",
    "    def call_openai(self, state: AgentState):\n",
    "        messages = state['messages']\n",
    "        if self.system:\n",
    "            messages = [SystemMessage(content=self.system)] + messages\n",
    "        message = self.model.invoke(messages)\n",
    "        return {'messages': [message]}\n",
    "\n",
    "    def exists_action(self, state: AgentState):\n",
    "        result = state['messages'][-1]\n",
    "        return len(result.tool_calls) > 0\n",
    "\n",
    "    def take_action(self, state: AgentState):\n",
    "        tool_calls = state['messages'][-1].tool_calls\n",
    "        results = []\n",
    "        for t in tool_calls:\n",
    "            print(f\"Calling: {t}\")\n",
    "            result = self.tools[t['name']].invoke(t['args'])\n",
    "            results.append(ToolMessage(tool_call_id=t['id'], name=t['name'], content=str(result)))\n",
    "        print(\"Back to the model!\")\n",
    "        return {'messages': results}"
   ]
  },
  {
   "cell_type": "code",
   "execution_count": 10,
   "metadata": {},
   "outputs": [],
   "source": [
    "#Create and define custom tool\n",
    "class ApiInput(BaseModel):\n",
    "    message: str = Field(description=\"Should be the message in JSON format that you were asked to generate\")\n",
    "\n",
    "def api_task(message: str) -> str:\n",
    "    \"\"\"Use this to create, update or delete products\"\"\"\n",
    "    endpoint = os.getenv('API_URL')\n",
    "\n",
    "    headers = {\n",
    "        'apikey':os.getenv('SUPABASE_KEY'),\n",
    "        'Authorization': os.getenv('SUPBASE_TOKEN')\n",
    "    }\n",
    "\n",
    "    def message_parser(message:str) -> dict:\n",
    "        output = output_parser.parse(message)\n",
    "        return output\n",
    "\n",
    "    def create_product(data:dict) -> str:\n",
    "        product = {\n",
    "            'name':data.get('product_name'),\n",
    "            'price':float(data.get('price')),\n",
    "            'description':data.get('description'),\n",
    "            'stock':int(data.get('stock'))\n",
    "        }\n",
    "        response = requests.post(endpoint, headers=headers, json=product)\n",
    "\n",
    "        if response.status_code == 200:\n",
    "            return f\"Product {data.get('product_name')} was created successfully\"\n",
    "        else:\n",
    "            return \"There was an error with the API\"\n",
    "\n",
    "    tasks_actions = {\n",
    "        'create':create_product\n",
    "    }\n",
    "\n",
    "    data = message_parser(message)\n",
    "\n",
    "    task = data.get('task')\n",
    "\n",
    "    if task in tasks_actions:\n",
    "        tasks_actions[task](data)\n",
    "    else:\n",
    "        return \"This task is not defined\"\n",
    "\n",
    "\n",
    "ApiTask = StructuredTool.from_function(\n",
    "    func=api_task,\n",
    "    name=\"API_task\",\n",
    "    description=\"Do CRUD tasks in an API\",\n",
    "    args_schema=ApiInput,\n",
    "    return_direct=True\n",
    ")"
   ]
  },
  {
   "cell_type": "code",
   "execution_count": 11,
   "metadata": {},
   "outputs": [],
   "source": [
    "user_message =\"Create the product Jack Daniels Honey 1L with price 12.3, with description:The classis Jack Daniels Whiskey now with honey, and stock 48\""
   ]
  },
  {
   "cell_type": "code",
   "execution_count": 12,
   "metadata": {},
   "outputs": [],
   "source": [
    "#configure thread\n",
    "thread = {\"configurable\": {\"thread_id\": \"1\"}}"
   ]
  },
  {
   "cell_type": "code",
   "execution_count": 13,
   "metadata": {},
   "outputs": [],
   "source": [
    "#Executor with SQLite memory implementation\n",
    "def agent_executor(user_request:str) -> str:\n",
    "    with SqliteSaver.from_conn_string(':memory:') as memory:\n",
    "        assistant = Agent(\n",
    "            model=chat_model,\n",
    "            tools=[ApiTask],\n",
    "            system=system_message,\n",
    "            checkpointer=memory\n",
    "        )\n",
    "\n",
    "        request = [HumanMessage(content=user_request)]\n",
    "\n",
    "        result = assistant.graph.invoke({'messages':request},thread)\n",
    "    return result['messages'][-1].content\n"
   ]
  },
  {
   "cell_type": "code",
   "execution_count": 20,
   "metadata": {},
   "outputs": [
    {
     "data": {
      "text/plain": [
       "''"
      ]
     },
     "execution_count": 20,
     "metadata": {},
     "output_type": "execute_result"
    }
   ],
   "source": [
    "#test execution\n",
    "agent_executor(user_message)"
   ]
  }
 ],
 "metadata": {
  "kernelspec": {
   "display_name": "StoreAgent",
   "language": "python",
   "name": "python3"
  },
  "language_info": {
   "codemirror_mode": {
    "name": "ipython",
    "version": 3
   },
   "file_extension": ".py",
   "mimetype": "text/x-python",
   "name": "python",
   "nbconvert_exporter": "python",
   "pygments_lexer": "ipython3",
   "version": "3.11.5"
  }
 },
 "nbformat": 4,
 "nbformat_minor": 2
}
